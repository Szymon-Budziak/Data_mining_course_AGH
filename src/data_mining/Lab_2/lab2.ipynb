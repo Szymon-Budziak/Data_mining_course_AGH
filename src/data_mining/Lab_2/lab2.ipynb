{
 "cells": [
  {
   "metadata": {},
   "cell_type": "markdown",
   "source": [
    "# Lab 2\n",
    "\n",
    "*Przygotował:*\n",
    "**Szymon Budziak**\n",
    "\n",
    "---"
   ],
   "id": "a7cfc9be19fa89ee"
  },
  {
   "metadata": {
    "ExecuteTime": {
     "end_time": "2024-04-11T17:23:41.237443Z",
     "start_time": "2024-04-11T17:23:41.234913Z"
    }
   },
   "cell_type": "code",
   "source": [
    "import numpy as np\n",
    "import pandas as pd"
   ],
   "id": "522879c0203eb50",
   "outputs": [],
   "execution_count": 1
  },
  {
   "metadata": {},
   "cell_type": "markdown",
   "source": [
    "# Drzewa decyzyjne\n",
    "\n",
    "### Wczytanie danych"
   ],
   "id": "176ac69a6e555bc6"
  },
  {
   "metadata": {
    "ExecuteTime": {
     "end_time": "2024-04-11T17:23:41.740240Z",
     "start_time": "2024-04-11T17:23:41.731422Z"
    }
   },
   "cell_type": "code",
   "source": [
    "train = pd.read_csv('data/ed-titanic-training.csv', index_col=0)\n",
    "test = pd.read_csv('data/ed-titanic-test.csv', index_col=0)\n",
    "\n",
    "X_train, y_train = train.drop('Survived', axis=1), train.loc[:, 'Survived']"
   ],
   "id": "150200e0cbd5c6a4",
   "outputs": [],
   "execution_count": 2
  },
  {
   "metadata": {
    "ExecuteTime": {
     "end_time": "2024-04-11T17:23:41.847851Z",
     "start_time": "2024-04-11T17:23:41.837888Z"
    }
   },
   "cell_type": "code",
   "source": [
    "print(f'X_train shape: {X_train.shape}')\n",
    "train.head()"
   ],
   "id": "b3313261ac9507ce",
   "outputs": [
    {
     "name": "stdout",
     "output_type": "stream",
     "text": [
      "X_train shape: (891, 10)\n"
     ]
    },
    {
     "data": {
      "text/plain": [
       "   Survived  Pclass  Sex  Age  Parch  Fare  Embarked  Has_Cabin  FamilySize  \\\n",
       "0         0       3    1    1      0     0         0          0           2   \n",
       "1         1       1    0    2      0     3         1          1           2   \n",
       "2         1       3    0    1      0     1         0          0           1   \n",
       "3         1       1    0    2      0     3         0          1           2   \n",
       "4         0       3    1    2      0     1         0          0           1   \n",
       "\n",
       "   IsAlone  Title  \n",
       "0        0      1  \n",
       "1        0      3  \n",
       "2        1      4  \n",
       "3        0      3  \n",
       "4        1      1  "
      ],
      "text/html": [
       "<div>\n",
       "<style scoped>\n",
       "    .dataframe tbody tr th:only-of-type {\n",
       "        vertical-align: middle;\n",
       "    }\n",
       "\n",
       "    .dataframe tbody tr th {\n",
       "        vertical-align: top;\n",
       "    }\n",
       "\n",
       "    .dataframe thead th {\n",
       "        text-align: right;\n",
       "    }\n",
       "</style>\n",
       "<table border=\"1\" class=\"dataframe\">\n",
       "  <thead>\n",
       "    <tr style=\"text-align: right;\">\n",
       "      <th></th>\n",
       "      <th>Survived</th>\n",
       "      <th>Pclass</th>\n",
       "      <th>Sex</th>\n",
       "      <th>Age</th>\n",
       "      <th>Parch</th>\n",
       "      <th>Fare</th>\n",
       "      <th>Embarked</th>\n",
       "      <th>Has_Cabin</th>\n",
       "      <th>FamilySize</th>\n",
       "      <th>IsAlone</th>\n",
       "      <th>Title</th>\n",
       "    </tr>\n",
       "  </thead>\n",
       "  <tbody>\n",
       "    <tr>\n",
       "      <th>0</th>\n",
       "      <td>0</td>\n",
       "      <td>3</td>\n",
       "      <td>1</td>\n",
       "      <td>1</td>\n",
       "      <td>0</td>\n",
       "      <td>0</td>\n",
       "      <td>0</td>\n",
       "      <td>0</td>\n",
       "      <td>2</td>\n",
       "      <td>0</td>\n",
       "      <td>1</td>\n",
       "    </tr>\n",
       "    <tr>\n",
       "      <th>1</th>\n",
       "      <td>1</td>\n",
       "      <td>1</td>\n",
       "      <td>0</td>\n",
       "      <td>2</td>\n",
       "      <td>0</td>\n",
       "      <td>3</td>\n",
       "      <td>1</td>\n",
       "      <td>1</td>\n",
       "      <td>2</td>\n",
       "      <td>0</td>\n",
       "      <td>3</td>\n",
       "    </tr>\n",
       "    <tr>\n",
       "      <th>2</th>\n",
       "      <td>1</td>\n",
       "      <td>3</td>\n",
       "      <td>0</td>\n",
       "      <td>1</td>\n",
       "      <td>0</td>\n",
       "      <td>1</td>\n",
       "      <td>0</td>\n",
       "      <td>0</td>\n",
       "      <td>1</td>\n",
       "      <td>1</td>\n",
       "      <td>4</td>\n",
       "    </tr>\n",
       "    <tr>\n",
       "      <th>3</th>\n",
       "      <td>1</td>\n",
       "      <td>1</td>\n",
       "      <td>0</td>\n",
       "      <td>2</td>\n",
       "      <td>0</td>\n",
       "      <td>3</td>\n",
       "      <td>0</td>\n",
       "      <td>1</td>\n",
       "      <td>2</td>\n",
       "      <td>0</td>\n",
       "      <td>3</td>\n",
       "    </tr>\n",
       "    <tr>\n",
       "      <th>4</th>\n",
       "      <td>0</td>\n",
       "      <td>3</td>\n",
       "      <td>1</td>\n",
       "      <td>2</td>\n",
       "      <td>0</td>\n",
       "      <td>1</td>\n",
       "      <td>0</td>\n",
       "      <td>0</td>\n",
       "      <td>1</td>\n",
       "      <td>1</td>\n",
       "      <td>1</td>\n",
       "    </tr>\n",
       "  </tbody>\n",
       "</table>\n",
       "</div>"
      ]
     },
     "execution_count": 3,
     "metadata": {},
     "output_type": "execute_result"
    }
   ],
   "execution_count": 3
  },
  {
   "metadata": {
    "ExecuteTime": {
     "end_time": "2024-04-11T17:23:41.911125Z",
     "start_time": "2024-04-11T17:23:41.906297Z"
    }
   },
   "cell_type": "code",
   "source": "test.head()",
   "id": "1439b9356876efe6",
   "outputs": [
    {
     "data": {
      "text/plain": [
       "   Pclass  Sex  Age  Parch  Fare  Embarked  Has_Cabin  FamilySize  IsAlone  \\\n",
       "0       3    1    2      0     0         2          0           1        1   \n",
       "1       3    0    2      0     0         0          0           2        0   \n",
       "2       2    1    3      0     1         2          0           1        1   \n",
       "3       3    1    1      0     1         0          0           1        1   \n",
       "4       3    0    1      1     1         0          0           3        0   \n",
       "\n",
       "   Title  \n",
       "0      1  \n",
       "1      3  \n",
       "2      1  \n",
       "3      1  \n",
       "4      3  "
      ],
      "text/html": [
       "<div>\n",
       "<style scoped>\n",
       "    .dataframe tbody tr th:only-of-type {\n",
       "        vertical-align: middle;\n",
       "    }\n",
       "\n",
       "    .dataframe tbody tr th {\n",
       "        vertical-align: top;\n",
       "    }\n",
       "\n",
       "    .dataframe thead th {\n",
       "        text-align: right;\n",
       "    }\n",
       "</style>\n",
       "<table border=\"1\" class=\"dataframe\">\n",
       "  <thead>\n",
       "    <tr style=\"text-align: right;\">\n",
       "      <th></th>\n",
       "      <th>Pclass</th>\n",
       "      <th>Sex</th>\n",
       "      <th>Age</th>\n",
       "      <th>Parch</th>\n",
       "      <th>Fare</th>\n",
       "      <th>Embarked</th>\n",
       "      <th>Has_Cabin</th>\n",
       "      <th>FamilySize</th>\n",
       "      <th>IsAlone</th>\n",
       "      <th>Title</th>\n",
       "    </tr>\n",
       "  </thead>\n",
       "  <tbody>\n",
       "    <tr>\n",
       "      <th>0</th>\n",
       "      <td>3</td>\n",
       "      <td>1</td>\n",
       "      <td>2</td>\n",
       "      <td>0</td>\n",
       "      <td>0</td>\n",
       "      <td>2</td>\n",
       "      <td>0</td>\n",
       "      <td>1</td>\n",
       "      <td>1</td>\n",
       "      <td>1</td>\n",
       "    </tr>\n",
       "    <tr>\n",
       "      <th>1</th>\n",
       "      <td>3</td>\n",
       "      <td>0</td>\n",
       "      <td>2</td>\n",
       "      <td>0</td>\n",
       "      <td>0</td>\n",
       "      <td>0</td>\n",
       "      <td>0</td>\n",
       "      <td>2</td>\n",
       "      <td>0</td>\n",
       "      <td>3</td>\n",
       "    </tr>\n",
       "    <tr>\n",
       "      <th>2</th>\n",
       "      <td>2</td>\n",
       "      <td>1</td>\n",
       "      <td>3</td>\n",
       "      <td>0</td>\n",
       "      <td>1</td>\n",
       "      <td>2</td>\n",
       "      <td>0</td>\n",
       "      <td>1</td>\n",
       "      <td>1</td>\n",
       "      <td>1</td>\n",
       "    </tr>\n",
       "    <tr>\n",
       "      <th>3</th>\n",
       "      <td>3</td>\n",
       "      <td>1</td>\n",
       "      <td>1</td>\n",
       "      <td>0</td>\n",
       "      <td>1</td>\n",
       "      <td>0</td>\n",
       "      <td>0</td>\n",
       "      <td>1</td>\n",
       "      <td>1</td>\n",
       "      <td>1</td>\n",
       "    </tr>\n",
       "    <tr>\n",
       "      <th>4</th>\n",
       "      <td>3</td>\n",
       "      <td>0</td>\n",
       "      <td>1</td>\n",
       "      <td>1</td>\n",
       "      <td>1</td>\n",
       "      <td>0</td>\n",
       "      <td>0</td>\n",
       "      <td>3</td>\n",
       "      <td>0</td>\n",
       "      <td>3</td>\n",
       "    </tr>\n",
       "  </tbody>\n",
       "</table>\n",
       "</div>"
      ]
     },
     "execution_count": 4,
     "metadata": {},
     "output_type": "execute_result"
    }
   ],
   "execution_count": 4
  },
  {
   "metadata": {},
   "cell_type": "markdown",
   "source": "### Wyznaczenie korelacji Pearsona pomiędzy cechami zbioru treningowego i dokonanie wizualizacji macierzy",
   "id": "1686d9786a8a7e00"
  },
  {
   "metadata": {
    "ExecuteTime": {
     "end_time": "2024-04-11T17:23:41.934034Z",
     "start_time": "2024-04-11T17:23:41.931988Z"
    }
   },
   "cell_type": "code",
   "source": [
    "import matplotlib.pyplot as plt\n",
    "import seaborn as sns"
   ],
   "id": "79196db1ec80f81b",
   "outputs": [],
   "execution_count": 5
  },
  {
   "metadata": {
    "ExecuteTime": {
     "end_time": "2024-04-11T17:23:42.444339Z",
     "start_time": "2024-04-11T17:23:42.042675Z"
    }
   },
   "cell_type": "code",
   "source": [
    "colormap = plt.cm.viridis\n",
    "plt.figure(figsize=(12, 12))\n",
    "plt.title('Pearson Correlation of Features', y=1.05, size=15)\n",
    "sns.heatmap(train.astype(float).corr(), linewidths=0.1, vmax=1.0, square=True, cmap=colormap, linecolor='white',\n",
    "            annot=True)"
   ],
   "id": "7723f07c48954f2c",
   "outputs": [
    {
     "data": {
      "text/plain": [
       "<Axes: title={'center': 'Pearson Correlation of Features'}>"
      ]
     },
     "execution_count": 6,
     "metadata": {},
     "output_type": "execute_result"
    },
    {
     "data": {
      "text/plain": [
       "<Figure size 1200x1200 with 2 Axes>"
      ],
      "image/png": "[encoded data removed]"
     },
     "metadata": {},
     "output_type": "display_data"
    }
   ],
   "execution_count": 6
  },
  {
   "metadata": {},
   "cell_type": "markdown",
   "source": [
    "**Komenatrz**\n",
    "\n",
    "Najbardziej skorelowane etykiety, z etykietą przeżycia (**Survived**), to **Sex** i **Title**."
   ],
   "id": "7fb87b01beb3654f"
  },
  {
   "metadata": {},
   "cell_type": "markdown",
   "source": "### Współczynnik przeżywalności dla każdego z pięciu różnych tytułów",
   "id": "41a8cd943f1916cb"
  },
  {
   "metadata": {
    "ExecuteTime": {
     "end_time": "2024-04-11T17:23:42.450817Z",
     "start_time": "2024-04-11T17:23:42.445540Z"
    }
   },
   "cell_type": "code",
   "source": "train.loc[:, ['Title', 'Survived']].groupby(['Title'], as_index=False).mean()",
   "id": "aa5ae1693d1bed51",
   "outputs": [
    {
     "data": {
      "text/plain": [
       "   Title  Survived\n",
       "0      1  0.156673\n",
       "1      2  0.575000\n",
       "2      3  0.793651\n",
       "3      4  0.702703\n",
       "4      5  0.347826"
      ],
      "text/html": [
       "<div>\n",
       "<style scoped>\n",
       "    .dataframe tbody tr th:only-of-type {\n",
       "        vertical-align: middle;\n",
       "    }\n",
       "\n",
       "    .dataframe tbody tr th {\n",
       "        vertical-align: top;\n",
       "    }\n",
       "\n",
       "    .dataframe thead th {\n",
       "        text-align: right;\n",
       "    }\n",
       "</style>\n",
       "<table border=\"1\" class=\"dataframe\">\n",
       "  <thead>\n",
       "    <tr style=\"text-align: right;\">\n",
       "      <th></th>\n",
       "      <th>Title</th>\n",
       "      <th>Survived</th>\n",
       "    </tr>\n",
       "  </thead>\n",
       "  <tbody>\n",
       "    <tr>\n",
       "      <th>0</th>\n",
       "      <td>1</td>\n",
       "      <td>0.156673</td>\n",
       "    </tr>\n",
       "    <tr>\n",
       "      <th>1</th>\n",
       "      <td>2</td>\n",
       "      <td>0.575000</td>\n",
       "    </tr>\n",
       "    <tr>\n",
       "      <th>2</th>\n",
       "      <td>3</td>\n",
       "      <td>0.793651</td>\n",
       "    </tr>\n",
       "    <tr>\n",
       "      <th>3</th>\n",
       "      <td>4</td>\n",
       "      <td>0.702703</td>\n",
       "    </tr>\n",
       "    <tr>\n",
       "      <th>4</th>\n",
       "      <td>5</td>\n",
       "      <td>0.347826</td>\n",
       "    </tr>\n",
       "  </tbody>\n",
       "</table>\n",
       "</div>"
      ]
     },
     "execution_count": 7,
     "metadata": {},
     "output_type": "execute_result"
    }
   ],
   "execution_count": 7
  },
  {
   "metadata": {},
   "cell_type": "markdown",
   "source": "### Wyznaczenie najlepszej głębokość drzewa decyzyjnego przy użyciu walidacji krzyżowej (10-fold)",
   "id": "19465e878cca2df5"
  },
  {
   "metadata": {
    "ExecuteTime": {
     "end_time": "2024-04-11T17:23:43.079495Z",
     "start_time": "2024-04-11T17:23:42.864704Z"
    }
   },
   "cell_type": "code",
   "source": [
    "from sklearn.model_selection import GridSearchCV\n",
    "from sklearn.tree import DecisionTreeClassifier, plot_tree"
   ],
   "id": "da77297c9a77d13e",
   "outputs": [],
   "execution_count": 8
  },
  {
   "metadata": {
    "ExecuteTime": {
     "end_time": "2024-04-11T17:23:43.280625Z",
     "start_time": "2024-04-11T17:23:43.080713Z"
    }
   },
   "cell_type": "code",
   "source": [
    "n_splits = 10\n",
    "param_grid = {'max_depth': [i for i in range(2, 2 + n_splits)]}\n",
    "\n",
    "tree = DecisionTreeClassifier(criterion='gini')\n",
    "grid_search = GridSearchCV(estimator=tree, param_grid=param_grid, cv=n_splits)\n",
    "grid_search.fit(X_train, y_train)\n",
    "\n",
    "print(f'Best parameters: {grid_search.best_params_}')\n",
    "print(f'Best score: {grid_search.best_score_}')\n",
    "print(f'Best estimator: {grid_search.best_estimator_}')"
   ],
   "id": "1861fd30f12776bc",
   "outputs": [
    {
     "name": "stdout",
     "output_type": "stream",
     "text": [
      "Best parameters: {'max_depth': 3}\n",
      "Best score: 0.8305243445692885\n",
      "Best estimator: DecisionTreeClassifier(max_depth=3)\n"
     ]
    }
   ],
   "execution_count": 9
  },
  {
   "metadata": {},
   "cell_type": "markdown",
   "source": "### Drzewo decyzyjne z wyznaczonej wcześniej maksymalnej głębokości",
   "id": "f99ea94c1a0f6df7"
  },
  {
   "metadata": {
    "ExecuteTime": {
     "end_time": "2024-04-11T17:23:43.285892Z",
     "start_time": "2024-04-11T17:23:43.281388Z"
    }
   },
   "cell_type": "code",
   "source": [
    "best_params = grid_search.best_params_\n",
    "best_tree = DecisionTreeClassifier(criterion='gini', max_depth=best_params['max_depth'])\n",
    "best_tree.fit(X_train, y_train)"
   ],
   "id": "ab273f494e02d8e6",
   "outputs": [
    {
     "data": {
      "text/plain": [
       "DecisionTreeClassifier(max_depth=3)"
      ],
      "text/html": [
       "<style>#sk-container-id-1 {\n",
       "  /* Definition of color scheme common for light and dark mode */\n",
       "  --sklearn-color-text: black;\n",
       "  --sklearn-color-line: gray;\n",
       "  /* Definition of color scheme for unfitted estimators */\n",
       "  --sklearn-color-unfitted-level-0: #fff5e6;\n",
       "  --sklearn-color-unfitted-level-1: #f6e4d2;\n",
       "  --sklearn-color-unfitted-level-2: #ffe0b3;\n",
       "  --sklearn-color-unfitted-level-3: chocolate;\n",
       "  /* Definition of color scheme for fitted estimators */\n",
       "  --sklearn-color-fitted-level-0: #f0f8ff;\n",
       "  --sklearn-color-fitted-level-1: #d4ebff;\n",
       "  --sklearn-color-fitted-level-2: #b3dbfd;\n",
       "  --sklearn-color-fitted-level-3: cornflowerblue;\n",
       "\n",
       "  /* Specific color for light theme */\n",
       "  --sklearn-color-text-on-default-background: var(--sg-text-color, var(--theme-code-foreground, var(--jp-content-font-color1, black)));\n",
       "  --sklearn-color-background: var(--sg-background-color, var(--theme-background, var(--jp-layout-color0, white)));\n",
       "  --sklearn-color-border-box: var(--sg-text-color, var(--theme-code-foreground, var(--jp-content-font-color1, black)));\n",
       "  --sklearn-color-icon: #696969;\n",
       "\n",
       "  @media (prefers-color-scheme: dark) {\n",
       "    /* Redefinition of color scheme for dark theme */\n",
       "    --sklearn-color-text-on-default-background: var(--sg-text-color, var(--theme-code-foreground, var(--jp-content-font-color1, white)));\n",
       "    --sklearn-color-background: var(--sg-background-color, var(--theme-background, var(--jp-layout-color0, #111)));\n",
       "    --sklearn-color-border-box: var(--sg-text-color, var(--theme-code-foreground, var(--jp-content-font-color1, white)));\n",
       "    --sklearn-color-icon: #878787;\n",
       "  }\n",
       "}\n",
       "\n",
       "#sk-container-id-1 {\n",
       "  color: var(--sklearn-color-text);\n",
       "}\n",
       "\n",
       "#sk-container-id-1 pre {\n",
       "  padding: 0;\n",
       "}\n",
       "\n",
       "#sk-container-id-1 input.sk-hidden--visually {\n",
       "  border: 0;\n",
       "  clip: rect(1px 1px 1px 1px);\n",
       "  clip: rect(1px, 1px, 1px, 1px);\n",
       "  height: 1px;\n",
       "  margin: -1px;\n",
       "  overflow: hidden;\n",
       "  padding: 0;\n",
       "  position: absolute;\n",
       "  width: 1px;\n",
       "}\n",
       "\n",
       "#sk-container-id-1 div.sk-dashed-wrapped {\n",
       "  border: 1px dashed var(--sklearn-color-line);\n",
       "  margin: 0 0.4em 0.5em 0.4em;\n",
       "  box-sizing: border-box;\n",
       "  padding-bottom: 0.4em;\n",
       "  background-color: var(--sklearn-color-background);\n",
       "}\n",
       "\n",
       "#sk-container-id-1 div.sk-container {\n",
       "  /* jupyter's `normalize.less` sets `[hidden] { display: none; }`\n",
       "     but bootstrap.min.css set `[hidden] { display: none !important; }`\n",
       "     so we also need the `!important` here to be able to override the\n",
       "     default hidden behavior on the sphinx rendered scikit-learn.org.\n",
       "     See: https://github.com/scikit-learn/scikit-learn/issues/21755 */\n",
       "  display: inline-block !important;\n",
       "  position: relative;\n",
       "}\n",
       "\n",
       "#sk-container-id-1 div.sk-text-repr-fallback {\n",
       "  display: none;\n",
       "}\n",
       "\n",
       "div.sk-parallel-item,\n",
       "div.sk-serial,\n",
       "div.sk-item {\n",
       "  /* draw centered vertical line to link estimators */\n",
       "  background-image: linear-gradient(var(--sklearn-color-text-on-default-background), var(--sklearn-color-text-on-default-background));\n",
       "  background-size: 2px 100%;\n",
       "  background-repeat: no-repeat;\n",
       "  background-position: center center;\n",
       "}\n",
       "\n",
       "/* Parallel-specific style estimator block */\n",
       "\n",
       "#sk-container-id-1 div.sk-parallel-item::after {\n",
       "  content: \"\";\n",
       "  width: 100%;\n",
       "  border-bottom: 2px solid var(--sklearn-color-text-on-default-background);\n",
       "  flex-grow: 1;\n",
       "}\n",
       "\n",
       "#sk-container-id-1 div.sk-parallel {\n",
       "  display: flex;\n",
       "  align-items: stretch;\n",
       "  justify-content: center;\n",
       "  background-color: var(--sklearn-color-background);\n",
       "  position: relative;\n",
       "}\n",
       "\n",
       "#sk-container-id-1 div.sk-parallel-item {\n",
       "  display: flex;\n",
       "  flex-direction: column;\n",
       "}\n",
       "\n",
       "#sk-container-id-1 div.sk-parallel-item:first-child::after {\n",
       "  align-self: flex-end;\n",
       "  width: 50%;\n",
       "}\n",
       "\n",
       "#sk-container-id-1 div.sk-parallel-item:last-child::after {\n",
       "  align-self: flex-start;\n",
       "  width: 50%;\n",
       "}\n",
       "\n",
       "#sk-container-id-1 div.sk-parallel-item:only-child::after {\n",
       "  width: 0;\n",
       "}\n",
       "\n",
       "/* Serial-specific style estimator block */\n",
       "\n",
       "#sk-container-id-1 div.sk-serial {\n",
       "  display: flex;\n",
       "  flex-direction: column;\n",
       "  align-items: center;\n",
       "  background-color: var(--sklearn-color-background);\n",
       "  padding-right: 1em;\n",
       "  padding-left: 1em;\n",
       "}\n",
       "\n",
       "\n",
       "/* Toggleable style: style used for estimator/Pipeline/ColumnTransformer box that is\n",
       "clickable and can be expanded/collapsed.\n",
       "- Pipeline and ColumnTransformer use this feature and define the default style\n",
       "- Estimators will overwrite some part of the style using the `sk-estimator` class\n",
       "*/\n",
       "\n",
       "/* Pipeline and ColumnTransformer style (default) */\n",
       "\n",
       "#sk-container-id-1 div.sk-toggleable {\n",
       "  /* Default theme specific background. It is overwritten whether we have a\n",
       "  specific estimator or a Pipeline/ColumnTransformer */\n",
       "  background-color: var(--sklearn-color-background);\n",
       "}\n",
       "\n",
       "/* Toggleable label */\n",
       "#sk-container-id-1 label.sk-toggleable__label {\n",
       "  cursor: pointer;\n",
       "  display: block;\n",
       "  width: 100%;\n",
       "  margin-bottom: 0;\n",
       "  padding: 0.5em;\n",
       "  box-sizing: border-box;\n",
       "  text-align: center;\n",
       "}\n",
       "\n",
       "#sk-container-id-1 label.sk-toggleable__label-arrow:before {\n",
       "  /* Arrow on the left of the label */\n",
       "  content: \"▸\";\n",
       "  float: left;\n",
       "  margin-right: 0.25em;\n",
       "  color: var(--sklearn-color-icon);\n",
       "}\n",
       "\n",
       "#sk-container-id-1 label.sk-toggleable__label-arrow:hover:before {\n",
       "  color: var(--sklearn-color-text);\n",
       "}\n",
       "\n",
       "/* Toggleable content - dropdown */\n",
       "\n",
       "#sk-container-id-1 div.sk-toggleable__content {\n",
       "  max-height: 0;\n",
       "  max-width: 0;\n",
       "  overflow: hidden;\n",
       "  text-align: left;\n",
       "  /* unfitted */\n",
       "  background-color: var(--sklearn-color-unfitted-level-0);\n",
       "}\n",
       "\n",
       "#sk-container-id-1 div.sk-toggleable__content.fitted {\n",
       "  /* fitted */\n",
       "  background-color: var(--sklearn-color-fitted-level-0);\n",
       "}\n",
       "\n",
       "#sk-container-id-1 div.sk-toggleable__content pre {\n",
       "  margin: 0.2em;\n",
       "  border-radius: 0.25em;\n",
       "  color: var(--sklearn-color-text);\n",
       "  /* unfitted */\n",
       "  background-color: var(--sklearn-color-unfitted-level-0);\n",
       "}\n",
       "\n",
       "#sk-container-id-1 div.sk-toggleable__content.fitted pre {\n",
       "  /* unfitted */\n",
       "  background-color: var(--sklearn-color-fitted-level-0);\n",
       "}\n",
       "\n",
       "#sk-container-id-1 input.sk-toggleable__control:checked~div.sk-toggleable__content {\n",
       "  /* Expand drop-down */\n",
       "  max-height: 200px;\n",
       "  max-width: 100%;\n",
       "  overflow: auto;\n",
       "}\n",
       "\n",
       "#sk-container-id-1 input.sk-toggleable__control:checked~label.sk-toggleable__label-arrow:before {\n",
       "  content: \"▾\";\n",
       "}\n",
       "\n",
       "/* Pipeline/ColumnTransformer-specific style */\n",
       "\n",
       "#sk-container-id-1 div.sk-label input.sk-toggleable__control:checked~label.sk-toggleable__label {\n",
       "  color: var(--sklearn-color-text);\n",
       "  background-color: var(--sklearn-color-unfitted-level-2);\n",
       "}\n",
       "\n",
       "#sk-container-id-1 div.sk-label.fitted input.sk-toggleable__control:checked~label.sk-toggleable__label {\n",
       "  background-color: var(--sklearn-color-fitted-level-2);\n",
       "}\n",
       "\n",
       "/* Estimator-specific style */\n",
       "\n",
       "/* Colorize estimator box */\n",
       "#sk-container-id-1 div.sk-estimator input.sk-toggleable__control:checked~label.sk-toggleable__label {\n",
       "  /* unfitted */\n",
       "  background-color: var(--sklearn-color-unfitted-level-2);\n",
       "}\n",
       "\n",
       "#sk-container-id-1 div.sk-estimator.fitted input.sk-toggleable__control:checked~label.sk-toggleable__label {\n",
       "  /* fitted */\n",
       "  background-color: var(--sklearn-color-fitted-level-2);\n",
       "}\n",
       "\n",
       "#sk-container-id-1 div.sk-label label.sk-toggleable__label,\n",
       "#sk-container-id-1 div.sk-label label {\n",
       "  /* The background is the default theme color */\n",
       "  color: var(--sklearn-color-text-on-default-background);\n",
       "}\n",
       "\n",
       "/* On hover, darken the color of the background */\n",
       "#sk-container-id-1 div.sk-label:hover label.sk-toggleable__label {\n",
       "  color: var(--sklearn-color-text);\n",
       "  background-color: var(--sklearn-color-unfitted-level-2);\n",
       "}\n",
       "\n",
       "/* Label box, darken color on hover, fitted */\n",
       "#sk-container-id-1 div.sk-label.fitted:hover label.sk-toggleable__label.fitted {\n",
       "  color: var(--sklearn-color-text);\n",
       "  background-color: var(--sklearn-color-fitted-level-2);\n",
       "}\n",
       "\n",
       "/* Estimator label */\n",
       "\n",
       "#sk-container-id-1 div.sk-label label {\n",
       "  font-family: monospace;\n",
       "  font-weight: bold;\n",
       "  display: inline-block;\n",
       "  line-height: 1.2em;\n",
       "}\n",
       "\n",
       "#sk-container-id-1 div.sk-label-container {\n",
       "  text-align: center;\n",
       "}\n",
       "\n",
       "/* Estimator-specific */\n",
       "#sk-container-id-1 div.sk-estimator {\n",
       "  font-family: monospace;\n",
       "  border: 1px dotted var(--sklearn-color-border-box);\n",
       "  border-radius: 0.25em;\n",
       "  box-sizing: border-box;\n",
       "  margin-bottom: 0.5em;\n",
       "  /* unfitted */\n",
       "  background-color: var(--sklearn-color-unfitted-level-0);\n",
       "}\n",
       "\n",
       "#sk-container-id-1 div.sk-estimator.fitted {\n",
       "  /* fitted */\n",
       "  background-color: var(--sklearn-color-fitted-level-0);\n",
       "}\n",
       "\n",
       "/* on hover */\n",
       "#sk-container-id-1 div.sk-estimator:hover {\n",
       "  /* unfitted */\n",
       "  background-color: var(--sklearn-color-unfitted-level-2);\n",
       "}\n",
       "\n",
       "#sk-container-id-1 div.sk-estimator.fitted:hover {\n",
       "  /* fitted */\n",
       "  background-color: var(--sklearn-color-fitted-level-2);\n",
       "}\n",
       "\n",
       "/* Specification for estimator info (e.g. \"i\" and \"?\") */\n",
       "\n",
       "/* Common style for \"i\" and \"?\" */\n",
       "\n",
       ".sk-estimator-doc-link,\n",
       "a:link.sk-estimator-doc-link,\n",
       "a:visited.sk-estimator-doc-link {\n",
       "  float: right;\n",
       "  font-size: smaller;\n",
       "  line-height: 1em;\n",
       "  font-family: monospace;\n",
       "  background-color: var(--sklearn-color-background);\n",
       "  border-radius: 1em;\n",
       "  height: 1em;\n",
       "  width: 1em;\n",
       "  text-decoration: none !important;\n",
       "  margin-left: 1ex;\n",
       "  /* unfitted */\n",
       "  border: var(--sklearn-color-unfitted-level-1) 1pt solid;\n",
       "  color: var(--sklearn-color-unfitted-level-1);\n",
       "}\n",
       "\n",
       ".sk-estimator-doc-link.fitted,\n",
       "a:link.sk-estimator-doc-link.fitted,\n",
       "a:visited.sk-estimator-doc-link.fitted {\n",
       "  /* fitted */\n",
       "  border: var(--sklearn-color-fitted-level-1) 1pt solid;\n",
       "  color: var(--sklearn-color-fitted-level-1);\n",
       "}\n",
       "\n",
       "/* On hover */\n",
       "div.sk-estimator:hover .sk-estimator-doc-link:hover,\n",
       ".sk-estimator-doc-link:hover,\n",
       "div.sk-label-container:hover .sk-estimator-doc-link:hover,\n",
       ".sk-estimator-doc-link:hover {\n",
       "  /* unfitted */\n",
       "  background-color: var(--sklearn-color-unfitted-level-3);\n",
       "  color: var(--sklearn-color-background);\n",
       "  text-decoration: none;\n",
       "}\n",
       "\n",
       "div.sk-estimator.fitted:hover .sk-estimator-doc-link.fitted:hover,\n",
       ".sk-estimator-doc-link.fitted:hover,\n",
       "div.sk-label-container:hover .sk-estimator-doc-link.fitted:hover,\n",
       ".sk-estimator-doc-link.fitted:hover {\n",
       "  /* fitted */\n",
       "  background-color: var(--sklearn-color-fitted-level-3);\n",
       "  color: var(--sklearn-color-background);\n",
       "  text-decoration: none;\n",
       "}\n",
       "\n",
       "/* Span, style for the box shown on hovering the info icon */\n",
       ".sk-estimator-doc-link span {\n",
       "  display: none;\n",
       "  z-index: 9999;\n",
       "  position: relative;\n",
       "  font-weight: normal;\n",
       "  right: .2ex;\n",
       "  padding: .5ex;\n",
       "  margin: .5ex;\n",
       "  width: min-content;\n",
       "  min-width: 20ex;\n",
       "  max-width: 50ex;\n",
       "  color: var(--sklearn-color-text);\n",
       "  box-shadow: 2pt 2pt 4pt #999;\n",
       "  /* unfitted */\n",
       "  background: var(--sklearn-color-unfitted-level-0);\n",
       "  border: .5pt solid var(--sklearn-color-unfitted-level-3);\n",
       "}\n",
       "\n",
       ".sk-estimator-doc-link.fitted span {\n",
       "  /* fitted */\n",
       "  background: var(--sklearn-color-fitted-level-0);\n",
       "  border: var(--sklearn-color-fitted-level-3);\n",
       "}\n",
       "\n",
       ".sk-estimator-doc-link:hover span {\n",
       "  display: block;\n",
       "}\n",
       "\n",
       "/* \"?\"-specific style due to the `<a>` HTML tag */\n",
       "\n",
       "#sk-container-id-1 a.estimator_doc_link {\n",
       "  float: right;\n",
       "  font-size: 1rem;\n",
       "  line-height: 1em;\n",
       "  font-family: monospace;\n",
       "  background-color: var(--sklearn-color-background);\n",
       "  border-radius: 1rem;\n",
       "  height: 1rem;\n",
       "  width: 1rem;\n",
       "  text-decoration: none;\n",
       "  /* unfitted */\n",
       "  color: var(--sklearn-color-unfitted-level-1);\n",
       "  border: var(--sklearn-color-unfitted-level-1) 1pt solid;\n",
       "}\n",
       "\n",
       "#sk-container-id-1 a.estimator_doc_link.fitted {\n",
       "  /* fitted */\n",
       "  border: var(--sklearn-color-fitted-level-1) 1pt solid;\n",
       "  color: var(--sklearn-color-fitted-level-1);\n",
       "}\n",
       "\n",
       "/* On hover */\n",
       "#sk-container-id-1 a.estimator_doc_link:hover {\n",
       "  /* unfitted */\n",
       "  background-color: var(--sklearn-color-unfitted-level-3);\n",
       "  color: var(--sklearn-color-background);\n",
       "  text-decoration: none;\n",
       "}\n",
       "\n",
       "#sk-container-id-1 a.estimator_doc_link.fitted:hover {\n",
       "  /* fitted */\n",
       "  background-color: var(--sklearn-color-fitted-level-3);\n",
       "}\n",
       "</style><div id=\"sk-container-id-1\" class=\"sk-top-container\"><div class=\"sk-text-repr-fallback\"><pre>DecisionTreeClassifier(max_depth=3)</pre><b>In a Jupyter environment, please rerun this cell to show the HTML representation or trust the notebook. <br />On GitHub, the HTML representation is unable to render, please try loading this page with nbviewer.org.</b></div><div class=\"sk-container\" hidden><div class=\"sk-item\"><div class=\"sk-estimator fitted sk-toggleable\"><input class=\"sk-toggleable__control sk-hidden--visually\" id=\"sk-estimator-id-1\" type=\"checkbox\" checked><label for=\"sk-estimator-id-1\" class=\"sk-toggleable__label fitted sk-toggleable__label-arrow fitted\">&nbsp;&nbsp;DecisionTreeClassifier<a class=\"sk-estimator-doc-link fitted\" rel=\"noreferrer\" target=\"_blank\" href=\"https://scikit-learn.org/1.4/modules/generated/sklearn.tree.DecisionTreeClassifier.html\">?<span>Documentation for DecisionTreeClassifier</span></a><span class=\"sk-estimator-doc-link fitted\">i<span>Fitted</span></span></label><div class=\"sk-toggleable__content fitted\"><pre>DecisionTreeClassifier(max_depth=3)</pre></div> </div></div></div></div>"
      ]
     },
     "execution_count": 10,
     "metadata": {},
     "output_type": "execute_result"
    }
   ],
   "execution_count": 10
  },
  {
   "metadata": {},
   "cell_type": "markdown",
   "source": "### Predykcja możliwości przeżycia dla pasażerów ze zbioru testowego ",
   "id": "9f9d45f648377282"
  },
  {
   "metadata": {
    "ExecuteTime": {
     "end_time": "2024-04-11T17:23:43.293420Z",
     "start_time": "2024-04-11T17:23:43.287534Z"
    }
   },
   "cell_type": "code",
   "source": [
    "predictions = best_tree.predict(test)\n",
    "output = pd.DataFrame({'Survived': predictions})\n",
    "output.to_csv('data/ed-titanic-predictions.csv', index=False)\n",
    "output.head()"
   ],
   "id": "774bd0823dc506ae",
   "outputs": [
    {
     "data": {
      "text/plain": [
       "   Survived\n",
       "0         0\n",
       "1         1\n",
       "2         0\n",
       "3         0\n",
       "4         1"
      ],
      "text/html": [
       "<div>\n",
       "<style scoped>\n",
       "    .dataframe tbody tr th:only-of-type {\n",
       "        vertical-align: middle;\n",
       "    }\n",
       "\n",
       "    .dataframe tbody tr th {\n",
       "        vertical-align: top;\n",
       "    }\n",
       "\n",
       "    .dataframe thead th {\n",
       "        text-align: right;\n",
       "    }\n",
       "</style>\n",
       "<table border=\"1\" class=\"dataframe\">\n",
       "  <thead>\n",
       "    <tr style=\"text-align: right;\">\n",
       "      <th></th>\n",
       "      <th>Survived</th>\n",
       "    </tr>\n",
       "  </thead>\n",
       "  <tbody>\n",
       "    <tr>\n",
       "      <th>0</th>\n",
       "      <td>0</td>\n",
       "    </tr>\n",
       "    <tr>\n",
       "      <th>1</th>\n",
       "      <td>1</td>\n",
       "    </tr>\n",
       "    <tr>\n",
       "      <th>2</th>\n",
       "      <td>0</td>\n",
       "    </tr>\n",
       "    <tr>\n",
       "      <th>3</th>\n",
       "      <td>0</td>\n",
       "    </tr>\n",
       "    <tr>\n",
       "      <th>4</th>\n",
       "      <td>1</td>\n",
       "    </tr>\n",
       "  </tbody>\n",
       "</table>\n",
       "</div>"
      ]
     },
     "execution_count": 11,
     "metadata": {},
     "output_type": "execute_result"
    }
   ],
   "execution_count": 11
  },
  {
   "metadata": {},
   "cell_type": "markdown",
   "source": "### Wizualizacja drzewa decyzyjnego",
   "id": "6ad6112233f841c3"
  },
  {
   "metadata": {
    "ExecuteTime": {
     "end_time": "2024-04-11T17:23:43.564816Z",
     "start_time": "2024-04-11T17:23:43.294122Z"
    }
   },
   "cell_type": "code",
   "source": "plot_tree(best_tree, filled=True)",
   "id": "d7c7568067611523",
   "outputs": [
    {
     "data": {
      "text/plain": [
       "[Text(0.5, 0.875, 'x[9] <= 1.5\\ngini = 0.473\\nsamples = 891\\nvalue = [549, 342]'),\n",
       " Text(0.25, 0.625, 'x[6] <= 0.5\\ngini = 0.264\\nsamples = 517\\nvalue = [436, 81]'),\n",
       " Text(0.125, 0.375, 'x[0] <= 1.5\\ngini = 0.197\\nsamples = 424\\nvalue = [377, 47]'),\n",
       " Text(0.0625, 0.125, 'gini = 0.351\\nsamples = 22\\nvalue = [17, 5]'),\n",
       " Text(0.1875, 0.125, 'gini = 0.187\\nsamples = 402\\nvalue = [360, 42]'),\n",
       " Text(0.375, 0.375, 'x[4] <= 0.5\\ngini = 0.464\\nsamples = 93\\nvalue = [59, 34]'),\n",
       " Text(0.3125, 0.125, 'gini = 0.0\\nsamples = 8\\nvalue = [8, 0]'),\n",
       " Text(0.4375, 0.125, 'gini = 0.48\\nsamples = 85\\nvalue = [51, 34]'),\n",
       " Text(0.75, 0.625, 'x[7] <= 4.5\\ngini = 0.422\\nsamples = 374\\nvalue = [113, 261]'),\n",
       " Text(0.625, 0.375, 'x[0] <= 2.5\\ngini = 0.346\\nsamples = 323\\nvalue = [72, 251]'),\n",
       " Text(0.5625, 0.125, 'gini = 0.215\\nsamples = 196\\nvalue = [24, 172]'),\n",
       " Text(0.6875, 0.125, 'gini = 0.47\\nsamples = 127\\nvalue = [48, 79]'),\n",
       " Text(0.875, 0.375, 'x[0] <= 2.5\\ngini = 0.315\\nsamples = 51\\nvalue = [41, 10]'),\n",
       " Text(0.8125, 0.125, 'gini = 0.0\\nsamples = 6\\nvalue = [0, 6]'),\n",
       " Text(0.9375, 0.125, 'gini = 0.162\\nsamples = 45\\nvalue = [41, 4]')]"
      ]
     },
     "execution_count": 12,
     "metadata": {},
     "output_type": "execute_result"
    },
    {
     "data": {
      "text/plain": [
       "<Figure size 640x480 with 1 Axes>"
      ],
      "image/png": "[encoded data removed]"
     },
     "metadata": {},
     "output_type": "display_data"
    }
   ],
   "execution_count": 12
  },
  {
   "metadata": {},
   "cell_type": "markdown",
   "source": "### Wpływ różnych parametrów na dokładność klasyfikacji",
   "id": "4ffe755b56690b1"
  },
  {
   "metadata": {
    "ExecuteTime": {
     "end_time": "2024-04-11T17:23:46.815116Z",
     "start_time": "2024-04-11T17:23:43.566056Z"
    }
   },
   "cell_type": "code",
   "source": [
    "grid_params = {\n",
    "    'criterion': ['gini', 'entropy'],\n",
    "    'min_samples_leaf': [i for i in range(1, 11)],\n",
    "    'max_depth': [i for i in range(2, 11)]\n",
    "}\n",
    "\n",
    "tree = DecisionTreeClassifier()\n",
    "grid_search = GridSearchCV(estimator=tree, param_grid=grid_params, cv=n_splits)\n",
    "grid_search.fit(X_train, y_train)\n",
    "\n",
    "best_params = grid_search.best_params_\n",
    "print(f'Best parameters: {grid_search.best_params_}')\n",
    "print(f'Best score: {grid_search.best_score_}')\n",
    "print(f'Best estimator: {grid_search.best_estimator_}')"
   ],
   "id": "b92b4b614a041abc",
   "outputs": [
    {
     "name": "stdout",
     "output_type": "stream",
     "text": [
      "Best parameters: {'criterion': 'entropy', 'max_depth': 3, 'min_samples_leaf': 1}\n",
      "Best score: 0.8316479400749064\n",
      "Best estimator: DecisionTreeClassifier(criterion='entropy', max_depth=3)\n"
     ]
    }
   ],
   "execution_count": 13
  },
  {
   "metadata": {},
   "cell_type": "markdown",
   "source": "### Podział zbioru treningowego na 75 / 25",
   "id": "53d377de1014b59c"
  },
  {
   "metadata": {
    "ExecuteTime": {
     "end_time": "2024-04-11T17:23:46.819085Z",
     "start_time": "2024-04-11T17:23:46.816202Z"
    }
   },
   "cell_type": "code",
   "source": [
    "from sklearn.model_selection import train_test_split\n",
    "\n",
    "X_train, X_test, y_train, y_test = train_test_split(X_train, y_train, test_size=0.25, random_state=42)"
   ],
   "id": "b1b202bcbe804540",
   "outputs": [],
   "execution_count": 14
  },
  {
   "metadata": {},
   "cell_type": "markdown",
   "source": "### Wizualizacja macierzy rozbieżności confusion matrix",
   "id": "66f70b35b4779be"
  },
  {
   "metadata": {
    "ExecuteTime": {
     "end_time": "2024-04-11T17:23:46.928827Z",
     "start_time": "2024-04-11T17:23:46.819715Z"
    }
   },
   "cell_type": "code",
   "source": [
    "from sklearn.metrics import ConfusionMatrixDisplay\n",
    "import matplotlib.pyplot as plt\n",
    "\n",
    "best_tree = DecisionTreeClassifier(criterion=best_params['criterion'],\n",
    "                                   max_depth=best_params['max_depth'],\n",
    "                                   min_samples_leaf=best_params['min_samples_leaf'])\n",
    "best_tree.fit(X_train, y_train)\n",
    "predictions = best_tree.predict(X_test)\n",
    "\n",
    "disp = ConfusionMatrixDisplay.from_predictions(\n",
    "    y_true=y_test,\n",
    "    y_pred=predictions,\n",
    "    display_labels=['Died', 'Survived'],\n",
    "    cmap=plt.cm.Blues,\n",
    ")\n",
    "disp.ax_.set_title('Confusion matrix, without normalization')\n",
    "disp.ax_.grid(False)"
   ],
   "id": "16423024bb986bc3",
   "outputs": [
    {
     "data": {
      "text/plain": [
       "<Figure size 640x480 with 2 Axes>"
      ],
      "image/png": "[encoded data removed]"
     },
     "metadata": {},
     "output_type": "display_data"
    }
   ],
   "execution_count": 15
  },
  {
   "metadata": {},
   "cell_type": "markdown",
   "source": "### Wyznaczenie accuracy, f1-score, average precision-recall",
   "id": "b4b0db8252e6e05e"
  },
  {
   "metadata": {
    "ExecuteTime": {
     "end_time": "2024-04-11T17:23:46.936021Z",
     "start_time": "2024-04-11T17:23:46.929607Z"
    }
   },
   "cell_type": "code",
   "source": [
    "from sklearn.metrics import accuracy_score, f1_score, average_precision_score, recall_score\n",
    "\n",
    "acc = accuracy_score(y_test, predictions)\n",
    "f1_sc = f1_score(y_test, predictions)\n",
    "avg_prec_rec = average_precision_score(y_test, predictions)\n",
    "rec_score = recall_score(y_test, predictions)\n",
    "\n",
    "print(f'Accuracy: {acc}')\n",
    "print(f'F1-score: {f1_sc}')\n",
    "print(f'Average precision-recall: {avg_prec_rec}')\n",
    "print(f'Recall score: {rec_score}')"
   ],
   "id": "e5814542e5382142",
   "outputs": [
    {
     "name": "stdout",
     "output_type": "stream",
     "text": [
      "Accuracy: 0.8295964125560538\n",
      "F1-score: 0.7764705882352941\n",
      "Average precision-recall: 0.7073837075852494\n",
      "Recall score: 0.7415730337078652\n"
     ]
    }
   ],
   "execution_count": 16
  },
  {
   "metadata": {},
   "cell_type": "markdown",
   "source": "# Klasyfikator k-NN",
   "id": "2db1b8f9a124972a"
  },
  {
   "metadata": {
    "ExecuteTime": {
     "end_time": "2024-04-11T17:23:47.044428Z",
     "start_time": "2024-04-11T17:23:46.938212Z"
    }
   },
   "cell_type": "code",
   "source": [
    "from sklearn.datasets import load_breast_cancer\n",
    "\n",
    "brest_cancer_data = load_breast_cancer()\n",
    "X_brest_cancer, y_brest_cancer = brest_cancer_data.data, brest_cancer_data.target\n",
    "\n",
    "nyt_data = pd.read_csv('data/nyt-frame.csv', index_col=0)\n",
    "X_nyt, y_nyt = nyt_data.drop('class.labels', axis=1), nyt_data.loc[:, 'class.labels']"
   ],
   "id": "a6dc056e2ef76d5",
   "outputs": [],
   "execution_count": 17
  },
  {
   "metadata": {
    "ExecuteTime": {
     "end_time": "2024-04-11T17:23:47.047533Z",
     "start_time": "2024-04-11T17:23:47.045156Z"
    }
   },
   "cell_type": "code",
   "source": "X_brest_cancer.shape",
   "id": "8dd51258ef089c6f",
   "outputs": [
    {
     "data": {
      "text/plain": [
       "(569, 30)"
      ]
     },
     "execution_count": 18,
     "metadata": {},
     "output_type": "execute_result"
    }
   ],
   "execution_count": 18
  },
  {
   "metadata": {
    "ExecuteTime": {
     "end_time": "2024-04-11T17:23:47.050089Z",
     "start_time": "2024-04-11T17:23:47.048104Z"
    }
   },
   "cell_type": "code",
   "source": "nyt_data.shape",
   "id": "10600cf04890f3a",
   "outputs": [
    {
     "data": {
      "text/plain": [
       "(102, 4432)"
      ]
     },
     "execution_count": 19,
     "metadata": {},
     "output_type": "execute_result"
    }
   ],
   "execution_count": 19
  },
  {
   "metadata": {},
   "cell_type": "markdown",
   "source": "## Analiza brest cancer",
   "id": "4de49af395e85c3a"
  },
  {
   "metadata": {},
   "cell_type": "markdown",
   "source": "### Reddukcja wymiarowości zbioru danych przy pomocy PCA",
   "id": "3cbc2e374cc33e17"
  },
  {
   "metadata": {
    "ExecuteTime": {
     "end_time": "2024-04-11T17:23:47.061968Z",
     "start_time": "2024-04-11T17:23:47.050918Z"
    }
   },
   "cell_type": "code",
   "source": "from sklearn.decomposition import PCA",
   "id": "4a56054ba9831407",
   "outputs": [],
   "execution_count": 20
  },
  {
   "metadata": {
    "ExecuteTime": {
     "end_time": "2024-04-11T17:23:48.174558Z",
     "start_time": "2024-04-11T17:23:47.062691Z"
    }
   },
   "cell_type": "code",
   "source": [
    "pca = PCA(n_components=10)\n",
    "X_pca_brest = pca.fit_transform(X_brest_cancer)\n",
    "X_pca_brest.shape"
   ],
   "id": "22bcc34f6dd20e8",
   "outputs": [
    {
     "data": {
      "text/plain": [
       "(569, 10)"
      ]
     },
     "execution_count": 21,
     "metadata": {},
     "output_type": "execute_result"
    }
   ],
   "execution_count": 21
  },
  {
   "metadata": {},
   "cell_type": "markdown",
   "source": "### Wykorzystanie dziesięciokrotnej walidacji krzyżowej do zmierzenia dokładności klasyfikacji dla k = 1, k = 3, k = 5, k = 7",
   "id": "8fe579b6e8125bd9"
  },
  {
   "metadata": {
    "ExecuteTime": {
     "end_time": "2024-04-11T17:23:48.364956Z",
     "start_time": "2024-04-11T17:23:48.175813Z"
    }
   },
   "cell_type": "code",
   "source": [
    "from sklearn.neighbors import KNeighborsClassifier\n",
    "from sklearn.model_selection import cross_val_score\n",
    "\n",
    "k_values = [1, 3, 5, 7]\n",
    "n_splits = 10\n",
    "\n",
    "best_k_value = -1\n",
    "best_score = -1\n",
    "\n",
    "for k in k_values:\n",
    "    knn = KNeighborsClassifier(n_neighbors=k)\n",
    "    scores = cross_val_score(knn, X_pca_brest, y_brest_cancer, cv=n_splits)\n",
    "    print(f'k = {k}, mean score: {np.mean(scores)}')\n",
    "    if np.mean(scores) > best_score:\n",
    "        best_score = np.mean(scores)\n",
    "        best_k_value = k\n",
    "\n",
    "print(f'Best k value: {best_k_value} with score: {best_score}')"
   ],
   "id": "78dc710e7ece4129",
   "outputs": [
    {
     "name": "stdout",
     "output_type": "stream",
     "text": [
      "k = 1, mean score: 0.9156954887218045\n",
      "k = 3, mean score: 0.9261904761904761\n",
      "k = 5, mean score: 0.9297619047619046\n",
      "k = 7, mean score: 0.9279761904761905\n",
      "Best k value: 5 with score: 0.9297619047619046\n"
     ]
    }
   ],
   "execution_count": 22
  },
  {
   "metadata": {},
   "cell_type": "markdown",
   "source": "### Wpływ wprowadzenia wag odległości oraz innej miary odległości (Euklidesowa vs. Taxi) na rezultaty klasyfikacji",
   "id": "56b586a7a661a39b"
  },
  {
   "metadata": {
    "ExecuteTime": {
     "end_time": "2024-04-11T17:23:48.637853Z",
     "start_time": "2024-04-11T17:23:48.370745Z"
    }
   },
   "cell_type": "code",
   "source": [
    "from itertools import product\n",
    "\n",
    "k_values = [1, 3, 5, 7]\n",
    "weights = ['uniform', 'distance']\n",
    "metrics = ['euclidean', 'manhattan']\n",
    "\n",
    "combinations = list(product(k_values, weights, metrics))\n",
    "\n",
    "n_splits = 10\n",
    "best_k_value = best_weight = best_metric = None\n",
    "best_score = -1\n",
    "\n",
    "for k, weight, metric in combinations:\n",
    "    knn = KNeighborsClassifier(n_neighbors=k, weights=weight, metric=metric)\n",
    "    scores = cross_val_score(knn, X_pca_brest, y_brest_cancer, cv=n_splits)\n",
    "    print(f'k = {k}, weight = {weight}, metric = {metric}, mean score: {np.mean(scores)}')\n",
    "    if np.mean(scores) > best_score:\n",
    "        best_score = np.mean(scores)\n",
    "        best_k_value = k\n",
    "        best_weight = weight\n",
    "        best_metric = metric\n",
    "\n",
    "print(f'Best k value: {best_k_value}; weight: {best_weight}; metric: {best_metric} with score: {best_score}')"
   ],
   "id": "3fb4d29842b22887",
   "outputs": [
    {
     "name": "stdout",
     "output_type": "stream",
     "text": [
      "k = 1, weight = uniform, metric = euclidean, mean score: 0.9156954887218045\n",
      "k = 1, weight = uniform, metric = manhattan, mean score: 0.9191416040100251\n",
      "k = 1, weight = distance, metric = euclidean, mean score: 0.9156954887218045\n",
      "k = 1, weight = distance, metric = manhattan, mean score: 0.9191416040100251\n",
      "k = 3, weight = uniform, metric = euclidean, mean score: 0.9261904761904761\n",
      "k = 3, weight = uniform, metric = manhattan, mean score: 0.9402568922305763\n",
      "k = 3, weight = distance, metric = euclidean, mean score: 0.9296992481203008\n",
      "k = 3, weight = distance, metric = manhattan, mean score: 0.943765664160401\n",
      "k = 5, weight = uniform, metric = euclidean, mean score: 0.9297619047619046\n",
      "k = 5, weight = uniform, metric = manhattan, mean score: 0.9384711779448622\n",
      "k = 5, weight = distance, metric = euclidean, mean score: 0.9297619047619046\n",
      "k = 5, weight = distance, metric = manhattan, mean score: 0.9349624060150376\n",
      "k = 7, weight = uniform, metric = euclidean, mean score: 0.9279761904761905\n",
      "k = 7, weight = uniform, metric = manhattan, mean score: 0.9368107769423559\n",
      "k = 7, weight = distance, metric = euclidean, mean score: 0.9262218045112782\n",
      "k = 7, weight = distance, metric = manhattan, mean score: 0.9333020050125314\n",
      "Best k value: 3; weight: distance; metric: manhattan with score: 0.943765664160401\n"
     ]
    }
   ],
   "execution_count": 23
  },
  {
   "metadata": {},
   "cell_type": "markdown",
   "source": [
    "**Komentarz**\n",
    "\n",
    "Najlepsze wyniki klasyfikacji uzyskano dla **k = 3**, z **wagami odległości** oraz **metryką taxi**. Można, zaobserwować, że zwiększanie k nie dawało lepszych rezultatów. Warto zauważyć, że dla **k = 1** uzyskano najgorsze wyniki klasyfikacji, natomiast dla k=3, klasyfikacja niezależnie od wybranych innych parametrów zawsze wypadała najlepiej."
   ],
   "id": "fe5fec40e1700537"
  },
  {
   "metadata": {},
   "cell_type": "markdown",
   "source": "## Analiza NYT",
   "id": "5e8e5f99735490d2"
  },
  {
   "metadata": {},
   "cell_type": "markdown",
   "source": "### Reddukcja wymiarowości zbioru danych przy pomocy PCA",
   "id": "e92495a150551d67"
  },
  {
   "metadata": {
    "ExecuteTime": {
     "end_time": "2024-04-11T17:23:51.293656Z",
     "start_time": "2024-04-11T17:23:48.638796Z"
    }
   },
   "cell_type": "code",
   "source": [
    "pca = PCA(n_components=10)\n",
    "X_pca_nyt = pca.fit_transform(X_nyt)\n",
    "X_pca_nyt.shape"
   ],
   "id": "6bac384a734723f3",
   "outputs": [
    {
     "data": {
      "text/plain": [
       "(102, 10)"
      ]
     },
     "execution_count": 24,
     "metadata": {},
     "output_type": "execute_result"
    }
   ],
   "execution_count": 24
  },
  {
   "metadata": {},
   "cell_type": "markdown",
   "source": "### Wykorzystanie dziesięciokrotnej walidacji krzyżowej do zmierzenia dokładności klasyfikacji dla k = 1, k = 3, k = 5, k = 7",
   "id": "90cf68a32e755332"
  },
  {
   "metadata": {
    "ExecuteTime": {
     "end_time": "2024-04-11T17:23:51.400019Z",
     "start_time": "2024-04-11T17:23:51.297242Z"
    }
   },
   "cell_type": "code",
   "source": [
    "k_values = [1, 3, 5, 7]\n",
    "n_splits = 10\n",
    "\n",
    "best_k_value = -1\n",
    "best_score = -1\n",
    "\n",
    "for k in k_values:\n",
    "    knn = KNeighborsClassifier(n_neighbors=k)\n",
    "    scores = cross_val_score(knn, X_pca_nyt, y_nyt, cv=n_splits)\n",
    "    print(f'k = {k}, mean score: {np.mean(scores)}')\n",
    "    if np.mean(scores) > best_score:\n",
    "        best_score = np.mean(scores)\n",
    "        best_k_value = k\n",
    "\n",
    "print(f'Best k value: {best_k_value} with score: {best_score}')"
   ],
   "id": "ef102f0216b79e63",
   "outputs": [
    {
     "name": "stdout",
     "output_type": "stream",
     "text": [
      "k = 1, mean score: 0.8527272727272728\n",
      "k = 3, mean score: 0.8818181818181818\n",
      "k = 5, mean score: 0.8318181818181818\n",
      "k = 7, mean score: 0.8409090909090908\n",
      "Best k value: 3 with score: 0.8818181818181818\n"
     ]
    }
   ],
   "execution_count": 25
  },
  {
   "metadata": {},
   "cell_type": "markdown",
   "source": "### Wpływ wprowadzenia wag odległości oraz innej miary odległości (Euklidesowa vs. Taxi) na rezultaty klasyfikacji",
   "id": "5135098c860a7870"
  },
  {
   "metadata": {
    "ExecuteTime": {
     "end_time": "2024-04-11T17:23:51.653866Z",
     "start_time": "2024-04-11T17:23:51.401874Z"
    }
   },
   "cell_type": "code",
   "source": [
    "from itertools import product\n",
    "\n",
    "k_values = [1, 3, 5, 7]\n",
    "weights = ['uniform', 'distance']\n",
    "metrics = ['euclidean', 'manhattan']\n",
    "\n",
    "combinations = list(product(k_values, weights, metrics))\n",
    "\n",
    "n_splits = 10\n",
    "best_k_value = best_weight = best_metric = None\n",
    "best_score = -1\n",
    "\n",
    "for k, weight, metric in combinations:\n",
    "    knn = KNeighborsClassifier(n_neighbors=k, weights=weight, metric=metric)\n",
    "    scores = cross_val_score(knn, X_pca_nyt, y_nyt, cv=n_splits)\n",
    "    print(f'k = {k}, weight = {weight}, metric = {metric}, mean score: {np.mean(scores)}')\n",
    "    if np.mean(scores) > best_score:\n",
    "        best_score = np.mean(scores)\n",
    "        best_k_value = k\n",
    "        best_weight = weight\n",
    "        best_metric = metric\n",
    "\n",
    "print(f'Best k value: {best_k_value}; weight: {best_weight}; metric: {best_metric} with score: {best_score}')"
   ],
   "id": "d810f2921e3df055",
   "outputs": [
    {
     "name": "stdout",
     "output_type": "stream",
     "text": [
      "k = 1, weight = uniform, metric = euclidean, mean score: 0.8527272727272728\n",
      "k = 1, weight = uniform, metric = manhattan, mean score: 0.8627272727272727\n",
      "k = 1, weight = distance, metric = euclidean, mean score: 0.8527272727272728\n",
      "k = 1, weight = distance, metric = manhattan, mean score: 0.8627272727272727\n",
      "k = 3, weight = uniform, metric = euclidean, mean score: 0.8818181818181818\n",
      "k = 3, weight = uniform, metric = manhattan, mean score: 0.8518181818181818\n",
      "k = 3, weight = distance, metric = euclidean, mean score: 0.8818181818181818\n",
      "k = 3, weight = distance, metric = manhattan, mean score: 0.8518181818181818\n",
      "k = 5, weight = uniform, metric = euclidean, mean score: 0.8318181818181818\n",
      "k = 5, weight = uniform, metric = manhattan, mean score: 0.8518181818181818\n",
      "k = 5, weight = distance, metric = euclidean, mean score: 0.8318181818181818\n",
      "k = 5, weight = distance, metric = manhattan, mean score: 0.8709090909090909\n",
      "k = 7, weight = uniform, metric = euclidean, mean score: 0.8409090909090908\n",
      "k = 7, weight = uniform, metric = manhattan, mean score: 0.8518181818181818\n",
      "k = 7, weight = distance, metric = euclidean, mean score: 0.8509090909090908\n",
      "k = 7, weight = distance, metric = manhattan, mean score: 0.8518181818181818\n",
      "Best k value: 3; weight: uniform; metric: euclidean with score: 0.8818181818181818\n"
     ]
    }
   ],
   "execution_count": 26
  },
  {
   "metadata": {},
   "cell_type": "markdown",
   "source": [
    "**Komentarz**\n",
    "\n",
    "Najlepsze wyniki klasyfikacji uzyskano dla **k = 3**, z **wagami uniform** oraz **metryką euklisedową**. Można, zaobserwować, że zwiększanie k nie koniecznie dawało lepszych rezultatów. Można również zauważyć, że dla **k = 5** został uzyskany najgorszy wynik klasyfikacji."
   ],
   "id": "5720ba5e39a5dadc"
  },
  {
   "metadata": {},
   "cell_type": "markdown",
   "source": [
    "## Zaimplementuj i przetestuj algorytm KD-tree dla n wymiarów\n",
    "\n",
    "### Implementacja algorytmu KD-tree"
   ],
   "id": "538de2439609cc34"
  },
  {
   "metadata": {
    "ExecuteTime": {
     "end_time": "2024-04-11T17:23:51.658252Z",
     "start_time": "2024-04-11T17:23:51.654711Z"
    }
   },
   "cell_type": "code",
   "source": [
    "class Node:\n",
    "    def __init__(self, point, left=None, right=None):\n",
    "        self.point = point\n",
    "        self.left = left\n",
    "        self.right = right\n",
    "\n",
    "\n",
    "class KDTree:\n",
    "    def __init__(self, depth=0):\n",
    "        self.depth = depth\n",
    "\n",
    "    def build(self, points, depth=0):\n",
    "        n = len(points)\n",
    "        if n <= 0:\n",
    "            return None\n",
    "\n",
    "        axis = depth % len(points[0])  # Use modulus to ensure depth never exceeds the number of dimensions\n",
    "        points.sort(key=lambda x: x[axis])\n",
    "        root = Node(points[n // 2])\n",
    "        root.left = self.build(points[: n // 2], depth + 1)\n",
    "        root.right = self.build(points[n // 2 + 1:], depth + 1)\n",
    "\n",
    "        return root\n",
    "\n",
    "    def print_tree(self, node, depth=0):\n",
    "        if node is None:\n",
    "            return\n",
    "\n",
    "        # Recursive case: if the node is not None, we need to visit its children\n",
    "        # First, we visit the left child\n",
    "        self.print_tree(node.left, depth + 1)\n",
    "\n",
    "        # Print the current node's point\n",
    "        # We use ' ' * depth to indent the output according to the node's depth\n",
    "        # This helps visualize the tree structure in the output\n",
    "        print(' ' * depth + 'Depth {} -> Node: {}'.format(depth, node.point))\n",
    "\n",
    "        # Finally, we visit the right child\n",
    "        self.print_tree(node.right, depth + 1)"
   ],
   "id": "529e505c035f8122",
   "outputs": [],
   "execution_count": 27
  },
  {
   "metadata": {},
   "cell_type": "markdown",
   "source": "### Testowanie algorytmu KD-tree",
   "id": "2bab23df39b31426"
  },
  {
   "metadata": {
    "ExecuteTime": {
     "end_time": "2024-04-11T17:23:51.661206Z",
     "start_time": "2024-04-11T17:23:51.659059Z"
    }
   },
   "cell_type": "code",
   "source": [
    "points = [(2, 3), (5, 4), (9, 6), (4, 7), (8, 1), (7, 2)]\n",
    "\n",
    "kdtree = KDTree()\n",
    "root = kdtree.build(points)\n",
    "kdtree.print_tree(root)"
   ],
   "id": "d2c71f016459a5d2",
   "outputs": [
    {
     "name": "stdout",
     "output_type": "stream",
     "text": [
      "  Depth 2 -> Node: (2, 3)\n",
      " Depth 1 -> Node: (5, 4)\n",
      "  Depth 2 -> Node: (4, 7)\n",
      "Depth 0 -> Node: (7, 2)\n",
      "  Depth 2 -> Node: (8, 1)\n",
      " Depth 1 -> Node: (9, 6)\n"
     ]
    }
   ],
   "execution_count": 28
  },
  {
   "metadata": {
    "ExecuteTime": {
     "end_time": "2024-04-11T17:23:51.663934Z",
     "start_time": "2024-04-11T17:23:51.661860Z"
    }
   },
   "cell_type": "code",
   "source": [
    "points_3d = [(2, 3, 4), (5, 4, 3), (9, 6, 2), (4, 7, 1), (8, 1, 5), (7, 2, 6)]\n",
    "\n",
    "kdtree_3d = KDTree()\n",
    "root_3d = kdtree_3d.build(points_3d)\n",
    "kdtree_3d.print_tree(root_3d)"
   ],
   "id": "2682d96113dbabd9",
   "outputs": [
    {
     "name": "stdout",
     "output_type": "stream",
     "text": [
      "  Depth 2 -> Node: (2, 3, 4)\n",
      " Depth 1 -> Node: (5, 4, 3)\n",
      "  Depth 2 -> Node: (4, 7, 1)\n",
      "Depth 0 -> Node: (7, 2, 6)\n",
      "  Depth 2 -> Node: (8, 1, 5)\n",
      " Depth 1 -> Node: (9, 6, 2)\n"
     ]
    }
   ],
   "execution_count": 29
  },
  {
   "metadata": {},
   "cell_type": "markdown",
   "source": [
    "# Lasy losowe\n",
    "\n",
    "## Czy zastosowanie wielu nieskorelowanych drzew decyzyjnych (las losowy) może poprawić wcześniejsze wyniki klasyfikacji?"
   ],
   "id": "e5ca4d9991a64f7e"
  },
  {
   "metadata": {
    "ExecuteTime": {
     "end_time": "2024-04-11T17:23:51.778486Z",
     "start_time": "2024-04-11T17:23:51.664616Z"
    }
   },
   "cell_type": "code",
   "source": "from sklearn.ensemble import RandomForestClassifier",
   "id": "cce0839f50d43f78",
   "outputs": [],
   "execution_count": 30
  },
  {
   "metadata": {
    "ExecuteTime": {
     "end_time": "2024-04-11T17:23:51.784259Z",
     "start_time": "2024-04-11T17:23:51.779297Z"
    }
   },
   "cell_type": "code",
   "source": [
    "train = pd.read_csv('data/ed-titanic-training.csv', index_col=0)\n",
    "test = pd.read_csv('data/ed-titanic-test.csv', index_col=0)\n",
    "\n",
    "X_train, y_train = train.drop('Survived', axis=1), train.loc[:, 'Survived']"
   ],
   "id": "832e0bacd5a7c9ce",
   "outputs": [],
   "execution_count": 31
  },
  {
   "metadata": {
    "ExecuteTime": {
     "end_time": "2024-04-11T17:25:12.373099Z",
     "start_time": "2024-04-11T17:23:51.784982Z"
    }
   },
   "cell_type": "code",
   "source": [
    "n_splits = 10\n",
    "param_grid = {\n",
    "    'n_estimators': [i for i in range(10, 101, 10)],\n",
    "    'max_depth': [i for i in range(2, 2 + n_splits)],\n",
    "    'criterion': ['gini', 'entropy']\n",
    "}\n",
    "\n",
    "forest = RandomForestClassifier()\n",
    "grid_search = GridSearchCV(estimator=forest, param_grid=param_grid, cv=n_splits)\n",
    "grid_search.fit(X_train, y_train)\n",
    "\n",
    "print(f'Best parameters: {grid_search.best_params_}')\n",
    "print(f'Best score: {grid_search.best_score_}')\n",
    "print(f'Best estimator: {grid_search.best_estimator_}')"
   ],
   "id": "32718fe02e39de98",
   "outputs": [
    {
     "name": "stdout",
     "output_type": "stream",
     "text": [
      "Best parameters: {'criterion': 'entropy', 'max_depth': 5, 'n_estimators': 70}\n",
      "Best score: 0.8350187265917602\n",
      "Best estimator: RandomForestClassifier(criterion='entropy', max_depth=5, n_estimators=70)\n"
     ]
    }
   ],
   "execution_count": 32
  },
  {
   "metadata": {
    "ExecuteTime": {
     "end_time": "2024-04-11T17:25:12.376705Z",
     "start_time": "2024-04-11T17:25:12.373875Z"
    }
   },
   "cell_type": "code",
   "source": "X_train, X_test, y_train, y_test = train_test_split(X_train, y_train, test_size=0.25, random_state=42)",
   "id": "6b4d8e1c423f8a7",
   "outputs": [],
   "execution_count": 33
  },
  {
   "metadata": {
    "ExecuteTime": {
     "end_time": "2024-04-11T17:25:12.432859Z",
     "start_time": "2024-04-11T17:25:12.377451Z"
    }
   },
   "cell_type": "code",
   "source": [
    "best_params = grid_search.best_params_\n",
    "best_forest = RandomForestClassifier(n_estimators=best_params['n_estimators'],\n",
    "                                     max_depth=best_params['max_depth'],\n",
    "                                     criterion=best_params['criterion'])\n",
    "best_forest.fit(X_train, y_train)\n",
    "predictions = best_forest.predict(X_test)\n",
    "\n",
    "acc = accuracy_score(y_test, predictions)\n",
    "f1_sc = f1_score(y_test, predictions)\n",
    "avg_prec_rec = average_precision_score(y_test, predictions)\n",
    "rec_score = recall_score(y_test, predictions)\n",
    "\n",
    "print(f'Accuracy: {acc}')\n",
    "print(f'F1-score: {f1_sc}')\n",
    "print(f'Average precision-recall: {avg_prec_rec}')\n",
    "print(f'Recall score: {rec_score}')"
   ],
   "id": "b841da6fe285c6a0",
   "outputs": [
    {
     "name": "stdout",
     "output_type": "stream",
     "text": [
      "Accuracy: 0.8295964125560538\n",
      "F1-score: 0.7816091954022989\n",
      "Average precision-recall: 0.7054063586436238\n",
      "Recall score: 0.7640449438202247\n"
     ]
    }
   ],
   "execution_count": 34
  },
  {
   "metadata": {},
   "cell_type": "markdown",
   "source": [
    "**Komentarz**\n",
    "\n",
    "Najlepszy wyniki klasyfikacji dla lasu losowego uzyskano dla **n_estimators = 70**, **max_depth = 5** oraz **criterion = entropy**. Wynik tej klasyfikacji to **0.8350**, co w porównaniu z najlepszym wcześniej wytrenowanym drzewem decyzyjnym (**0.8316**) nie daje znaczącej poprawy. Warto zauważyć, że las losowy jest bardziej skomplikowanym modelem, który może być bardziej skłonny do overfittingu. W przypadku, gdy mamy mały zbiór danych, drzewo decyzyjne może być lepszym wyborem, a w tym przypadku zbiór miał 891 wierszy.\n",
    "\n",
    "Odpowiadając na zadane pytanie, zastosowanie wielu nieskorelowanych drzew decyzyjnych (las losowy) może poprawić wyniki klasyfikacji, ale nie zawsze musi to być widoczne. W tym przypadku, różnica w wynikach klasyfikacji między lasem losowym a pojedynczym drzewem decyzyjnym nie jest znacząca."
   ],
   "id": "24cffab5fcc977d2"
  },
  {
   "metadata": {},
   "cell_type": "markdown",
   "source": "## Dokładność klasyfikacji uzyskiwaną za pomocą klasyfikatora RandomForest na zbiorze Breast Cancer",
   "id": "ab1e390835384881"
  },
  {
   "metadata": {
    "ExecuteTime": {
     "end_time": "2024-04-11T17:25:12.444223Z",
     "start_time": "2024-04-11T17:25:12.436834Z"
    }
   },
   "cell_type": "code",
   "source": [
    "brest_cancer_data = load_breast_cancer()\n",
    "X_brest_cancer, y_brest_cancer = brest_cancer_data.data, brest_cancer_data.target"
   ],
   "id": "5c6cc490f1138e1e",
   "outputs": [],
   "execution_count": 35
  },
  {
   "metadata": {},
   "cell_type": "markdown",
   "source": "### Analiza Brest Cancer bez PCA",
   "id": "eef2d83a20ec8a17"
  },
  {
   "metadata": {
    "ExecuteTime": {
     "end_time": "2024-04-11T17:27:16.171709Z",
     "start_time": "2024-04-11T17:25:12.444951Z"
    }
   },
   "cell_type": "code",
   "source": [
    "n_splits = 10\n",
    "param_grid = {\n",
    "    'n_estimators': [i for i in range(10, 101, 10)],\n",
    "    'max_depth': [i for i in range(2, 2 + n_splits)],\n",
    "    'criterion': ['gini', 'entropy']\n",
    "}\n",
    "\n",
    "forest = RandomForestClassifier()\n",
    "grid_search = GridSearchCV(estimator=forest, param_grid=param_grid, cv=n_splits)\n",
    "grid_search.fit(X_brest_cancer, y_brest_cancer)\n",
    "\n",
    "print(f'Best parameters: {grid_search.best_params_}')\n",
    "print(f'Best score: {grid_search.best_score_}')\n",
    "print(f'Best estimator: {grid_search.best_estimator_}')"
   ],
   "id": "31ea82bdb4696ac0",
   "outputs": [
    {
     "name": "stdout",
     "output_type": "stream",
     "text": [
      "Best parameters: {'criterion': 'entropy', 'max_depth': 6, 'n_estimators': 40}\n",
      "Best score: 0.9719298245614034\n",
      "Best estimator: RandomForestClassifier(criterion='entropy', max_depth=6, n_estimators=40)\n"
     ]
    }
   ],
   "execution_count": 36
  },
  {
   "metadata": {
    "ExecuteTime": {
     "end_time": "2024-04-11T17:27:16.229734Z",
     "start_time": "2024-04-11T17:27:16.172725Z"
    }
   },
   "cell_type": "code",
   "source": [
    "best_params = grid_search.best_params_\n",
    "best_forest = RandomForestClassifier(n_estimators=best_params['n_estimators'],\n",
    "                                     max_depth=best_params['max_depth'],\n",
    "                                     criterion=best_params['criterion'])\n",
    "best_forest.fit(X_brest_cancer, y_brest_cancer)\n",
    "predictions = best_forest.predict(X_brest_cancer)\n",
    "\n",
    "acc = accuracy_score(y_brest_cancer, predictions)\n",
    "f1_sc = f1_score(y_brest_cancer, predictions)\n",
    "avg_prec_rec = average_precision_score(y_brest_cancer, predictions)\n",
    "rec_score = recall_score(y_brest_cancer, predictions)\n",
    "\n",
    "print(f'Accuracy: {acc}')\n",
    "print(f'F1-score: {f1_sc}')\n",
    "print(f'Average precision-recall: {avg_prec_rec}')\n",
    "print(f'Recall score: {rec_score}')"
   ],
   "id": "3a1e200a70f3b956",
   "outputs": [
    {
     "name": "stdout",
     "output_type": "stream",
     "text": [
      "Accuracy: 0.9982425307557118\n",
      "F1-score: 0.9986013986013986\n",
      "Average precision-recall: 0.9972067039106145\n",
      "Recall score: 1.0\n"
     ]
    }
   ],
   "execution_count": 37
  },
  {
   "metadata": {},
   "cell_type": "markdown",
   "source": [
    "**Komentarz**\n",
    "\n",
    "Możemy zauważyć, że w przypadku analizy Brest Cancer bez PCA, najlepsze wyniki klasyfikacji uzyskano dla **n_estimators = 40**, **max_depth = 6** oraz **criterion = entropy**. Wynik tej klasyfikacji to **0.9719**, co jest bardzo wysokim wynikiem.\n",
    "\n",
    "Warto zauważyć, że w przypadku analizy Brest Cancer, las losowy uzyskał duże lepsze wyniki klasyfikacji niż pojedyncze drzewo decyzyjne. Najlepsza wartość accuracy dla pojedynczego drzewa decyzyjnego wynosiła około **0.85**, a dla lasu losowego **0.97**. Widać, że las losowy jest bardziej skutecznym modelem klasyfikacji w przypadku analizy Brest Cancer."
   ],
   "id": "7c971ef1dfdb90b8"
  },
  {
   "metadata": {},
   "cell_type": "markdown",
   "source": "### Analiza Brest Cancer z PCA",
   "id": "bd3630b863690a7a"
  },
  {
   "metadata": {
    "ExecuteTime": {
     "end_time": "2024-04-11T17:27:17.576122Z",
     "start_time": "2024-04-11T17:27:16.230448Z"
    }
   },
   "cell_type": "code",
   "source": [
    "pca = PCA(n_components=10)\n",
    "X_pca_brest = pca.fit_transform(X_brest_cancer)\n",
    "\n",
    "X_pca_brest_train, X_pca_brest_test, y_pca_brest_train, y_pca_brest_test = train_test_split(X_pca_brest, y_brest_cancer,\n",
    "                                                                                            test_size=0.25,\n",
    "                                                                                            random_state=42)"
   ],
   "id": "50c02c74f660b314",
   "outputs": [],
   "execution_count": 38
  },
  {
   "metadata": {
    "ExecuteTime": {
     "end_time": "2024-04-11T17:28:52.294498Z",
     "start_time": "2024-04-11T17:27:17.578720Z"
    }
   },
   "cell_type": "code",
   "source": [
    "n_splits = 10\n",
    "param_grid = {\n",
    "    'n_estimators': [i for i in range(10, 101, 10)],\n",
    "    'max_depth': [i for i in range(2, 2 + n_splits)],\n",
    "    'criterion': ['gini', 'entropy']\n",
    "}\n",
    "\n",
    "forest = RandomForestClassifier()\n",
    "grid_search = GridSearchCV(estimator=forest, param_grid=param_grid, cv=n_splits)\n",
    "grid_search.fit(X_pca_brest_train, y_pca_brest_train)\n",
    "\n",
    "print(f'Best parameters: {grid_search.best_params_}')\n",
    "print(f'Best score: {grid_search.best_score_}')\n",
    "print(f'Best estimator: {grid_search.best_estimator_}')"
   ],
   "id": "7ba9701f17d23736",
   "outputs": [
    {
     "name": "stdout",
     "output_type": "stream",
     "text": [
      "Best parameters: {'criterion': 'gini', 'max_depth': 9, 'n_estimators': 40}\n",
      "Best score: 0.9528792912513844\n",
      "Best estimator: RandomForestClassifier(max_depth=9, n_estimators=40)\n"
     ]
    }
   ],
   "execution_count": 39
  },
  {
   "metadata": {
    "ExecuteTime": {
     "end_time": "2024-04-11T17:28:52.341148Z",
     "start_time": "2024-04-11T17:28:52.295560Z"
    }
   },
   "cell_type": "code",
   "source": [
    "best_params = grid_search.best_params_\n",
    "best_forest = RandomForestClassifier(n_estimators=best_params['n_estimators'],\n",
    "                                     max_depth=best_params['max_depth'],\n",
    "                                     criterion=best_params['criterion'])\n",
    "best_forest.fit(X_pca_brest_train, y_pca_brest_train)\n",
    "predictions = best_forest.predict(X_pca_brest_test)\n",
    "\n",
    "acc = accuracy_score(y_pca_brest_test, predictions)\n",
    "f1_sc = f1_score(y_pca_brest_test, predictions)\n",
    "avg_prec_rec = average_precision_score(y_pca_brest_test, predictions)\n",
    "rec_score = recall_score(y_pca_brest_test, predictions)\n",
    "\n",
    "print(f'Accuracy: {acc}')\n",
    "print(f'F1-score: {f1_sc}')\n",
    "print(f'Average precision-recall: {avg_prec_rec}')\n",
    "print(f'Recall score: {rec_score}')"
   ],
   "id": "865081ac2e274623",
   "outputs": [
    {
     "name": "stdout",
     "output_type": "stream",
     "text": [
      "Accuracy: 0.965034965034965\n",
      "F1-score: 0.9723756906077348\n",
      "Average precision-recall: 0.9527673108523133\n",
      "Recall score: 0.9887640449438202\n"
     ]
    }
   ],
   "execution_count": 40
  },
  {
   "metadata": {},
   "cell_type": "markdown",
   "source": [
    "**Komentarz**\n",
    "\n",
    "Możemy zauważyć, że w przypadku analizy Brest Cancer z PCA dla 10 komponentów, najlepsze wyniki klasyfikacji uzyskano dla **n_estimators = 40**, **max_depth = 9** oraz **criterion = gini**. Wynik tej klasyfikacji to **0.9528**, co jest nieco niższym wynikiem niż bez PCA. Wyniki te, jednak nadal są znacznie lepsze niż wyniki uzyskane dla pojedynczego drzewa decyzyjnego."
   ],
   "id": "726e995388947bfd"
  }
 ],
 "metadata": {
  "kernelspec": {
   "display_name": "Python 3",
   "language": "python",
   "name": "python3"
  },
  "language_info": {
   "codemirror_mode": {
    "name": "ipython",
    "version": 2
   },
   "file_extension": ".py",
   "mimetype": "text/x-python",
   "name": "python",
   "nbconvert_exporter": "python",
   "pygments_lexer": "ipython2",
   "version": "2.7.6"
  }
 },
 "nbformat": 4,
 "nbformat_minor": 5
}
